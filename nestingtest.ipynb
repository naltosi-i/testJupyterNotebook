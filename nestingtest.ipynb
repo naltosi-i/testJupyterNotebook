{
 "cells": [
  {
   "cell_type": "code",
   "execution_count": 1,
   "metadata": {},
   "outputs": [
    {
     "name": "stdout",
     "output_type": "stream",
     "text": [
      "[0, 1, 2, 3, 4, 5, 6, 7, 8, 9]\n",
      "[{0: 1}, {1: 2}, {2: 3}, {3: 4}, {4: 5}, {5: 6}, {6: 7}, {7: 8}, {8: 9}, {9: 10}]\n",
      "5.5\n"
     ]
    }
   ],
   "source": [
    "from random import random\n",
    "\n",
    "ls = [x for x in range(10)]\n",
    "\"\"\"\\\n",
    "ls  = []\n",
    "cnt = 0\n",
    "\n",
    "for i in range(0, 10):\n",
    "    ls.append(cnt)\n",
    "    cnt += 1\"\"\"\n",
    "\n",
    "print(ls)\n",
    "\n",
    "cnt2 = 1\n",
    "\n",
    "for i in ls:\n",
    "    ls[i] = {i: cnt2}\n",
    "    cnt2 += 1\n",
    "\n",
    "print(ls)\n",
    "\n",
    "total = 0\n",
    "\n",
    "for data in ls:\n",
    "    for k, v in data.items():\n",
    "        total += v\n",
    "    \n",
    "average = total / len(ls)\n",
    "\n",
    "print(average)"
   ]
  },
  {
   "cell_type": "code",
   "execution_count": null,
   "metadata": {},
   "outputs": [],
   "source": []
  }
 ],
 "metadata": {
  "kernelspec": {
   "display_name": "Python 3",
   "language": "python",
   "name": "python3"
  },
  "language_info": {
   "codemirror_mode": {
    "name": "ipython",
    "version": 3
   },
   "file_extension": ".py",
   "mimetype": "text/x-python",
   "name": "python",
   "nbconvert_exporter": "python",
   "pygments_lexer": "ipython3",
   "version": "3.7.5"
  }
 },
 "nbformat": 4,
 "nbformat_minor": 2
}
